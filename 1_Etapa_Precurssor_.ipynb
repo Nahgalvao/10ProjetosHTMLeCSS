{
  "nbformat": 4,
  "nbformat_minor": 0,
  "metadata": {
    "colab": {
      "provenance": [],
      "authorship_tag": "ABX9TyPlZz7tUXJdunNrnfq85EUh",
      "include_colab_link": true
    },
    "kernelspec": {
      "name": "python3",
      "display_name": "Python 3"
    },
    "language_info": {
      "name": "python"
    }
  },
  "cells": [
    {
      "cell_type": "markdown",
      "metadata": {
        "id": "view-in-github",
        "colab_type": "text"
      },
      "source": [
        "<a href=\"https://colab.research.google.com/github/Nahgalvao/10ProjetosHTMLeCSS/blob/main/1_Etapa_Precurssor_.ipynb\" target=\"_parent\"><img src=\"https://colab.research.google.com/assets/colab-badge.svg\" alt=\"Open In Colab\"/></a>"
      ]
    },
    {
      "cell_type": "markdown",
      "source": [
        "##**1.Precurssor**"
      ],
      "metadata": {
        "id": "AMPn5Twc3ZqC"
      }
    },
    {
      "cell_type": "markdown",
      "source": [
        "####**1.1. Formar a solução à 0,1 molar**"
      ],
      "metadata": {
        "id": "d2qT5_eP3jGh"
      }
    },
    {
      "cell_type": "markdown",
      "source": [
        "####**1.2. Sempre partir da concetração do volume final, diluir esse valor pela metade e armazenar o restante**"
      ],
      "metadata": {
        "id": "PJJ-7KGq4AAk"
      }
    },
    {
      "cell_type": "markdown",
      "source": [
        "#### Perguntar a concentração desejada do volume final e dividir pela metade:"
      ],
      "metadata": {
        "id": "fg6e3Gqg-Kgr"
      }
    },
    {
      "cell_type": "code",
      "execution_count": 20,
      "metadata": {
        "id": "I0nVWW6a3Nfh",
        "colab": {
          "base_uri": "https://localhost:8080/"
        },
        "outputId": "a7aeb49e-2e80-4c6b-d03f-1ad0f190b2bd"
      },
      "outputs": [
        {
          "output_type": "stream",
          "name": "stdout",
          "text": [
            "Digite a concentração de volume final (em ml): 250\n",
            "O volume da reação será de 125.0 ml\n"
          ]
        }
      ],
      "source": [
        "volume_final = int(input(\"Digite a concentração de volume final (em ml): \"))\n",
        "volume_reacao = volume_final / 2\n",
        "print(f'O volume da reação será de {volume_reacao} ml')"
      ]
    },
    {
      "cell_type": "markdown",
      "source": [
        "####**1.3. Colher os dados do material usado para a síntese**"
      ],
      "metadata": {
        "id": "s-VkCw3RK7TL"
      }
    },
    {
      "cell_type": "markdown",
      "source": [
        "#### Supondo que os dados do *Agente Precurssor* sejam esses:\n",
        "\n",
        "##### MM = 219,51 g/mol\n",
        "##### Pureza = 98% = 98g de AcZn / 100g de sólido\n",
        "##### Concentração final = 0,1 M = 0,1 mol/L"
      ],
      "metadata": {
        "id": "K3DvGGB-LpQH"
      }
    },
    {
      "cell_type": "markdown",
      "source": [
        "####**1.3.1. Definir a quantidade em mol do *Agente Precurssor***"
      ],
      "metadata": {
        "id": "y5bLzubpNAhT"
      }
    },
    {
      "cell_type": "code",
      "source": [
        "MM = ('219.51')\n",
        "Pureza = 98\n",
        "conc_final = ('0.1')\n",
        "volume_final = float(input(\"Digite a concentração de volume final (em ml): \"))\n",
        "volume_reacao = volume_final / 2\n",
        "print(f'O volume da reação será de {volume_reacao} ml')"
      ],
      "metadata": {
        "colab": {
          "base_uri": "https://localhost:8080/"
        },
        "id": "nqPjvaksLo0S",
        "outputId": "79eb35a7-5567-44dc-d607-921bccf4b088"
      },
      "execution_count": 81,
      "outputs": [
        {
          "output_type": "stream",
          "name": "stdout",
          "text": [
            "Digite a concentração de volume final (em ml): 250\n",
            "O volume da reação será de 125.0 ml\n"
          ]
        }
      ]
    },
    {
      "cell_type": "code",
      "source": [
        "volume_reacao = float(volume_reacao)\n",
        "volume_final = float(volume_final)\n",
        "conc_final = float(conc_final)\n",
        "MM = float(MM)"
      ],
      "metadata": {
        "id": "XgdJ4XxxM7RI"
      },
      "execution_count": 82,
      "outputs": []
    },
    {
      "cell_type": "code",
      "source": [
        "conc_molar = volume_reacao * conc_final / 1000"
      ],
      "metadata": {
        "id": "2b7o1JqNaTdr"
      },
      "execution_count": 76,
      "outputs": []
    },
    {
      "cell_type": "code",
      "source": [
        "print(f' A concentração molar do Agente Precurssor na reação será de {conc_molar} mol de AcZn ')"
      ],
      "metadata": {
        "colab": {
          "base_uri": "https://localhost:8080/"
        },
        "id": "XbyEUHGBUURC",
        "outputId": "c55e93ee-ce37-4ff2-e1a0-7fa3d4d17bfc"
      },
      "execution_count": 93,
      "outputs": [
        {
          "output_type": "stream",
          "name": "stdout",
          "text": [
            " A concentração molar do Agente Precurssor na reação será de 0.0125 mol de AcZn \n"
          ]
        }
      ]
    },
    {
      "cell_type": "markdown",
      "source": [
        "####**1.3.2. Definir a quantidade em gramas do *Agente Precurssor***"
      ],
      "metadata": {
        "id": "Yes8eMB4coLO"
      }
    },
    {
      "cell_type": "code",
      "source": [
        "x = MM * conc_molar / 1      # 1 mol de Agente Precurssor"
      ],
      "metadata": {
        "id": "71i0_M9kY1mP"
      },
      "execution_count": 85,
      "outputs": []
    },
    {
      "cell_type": "code",
      "source": [
        "print(f' x será {x}g Agente Precurssor ')"
      ],
      "metadata": {
        "colab": {
          "base_uri": "https://localhost:8080/"
        },
        "id": "MwF9IqNAdPgf",
        "outputId": "68894739-d1ba-426d-ed92-32ff4651861b"
      },
      "execution_count": 94,
      "outputs": [
        {
          "output_type": "stream",
          "name": "stdout",
          "text": [
            " x será 2.743875g Agente Precurssor \n"
          ]
        }
      ]
    },
    {
      "cell_type": "markdown",
      "source": [
        "####**1.3.3. Definir a quantidade em gramas do *Agente Precurssor***"
      ],
      "metadata": {
        "id": "JiEANFvkd6XY"
      }
    },
    {
      "cell_type": "code",
      "source": [
        "y = x * 100 / Pureza         # 100 g de sólido"
      ],
      "metadata": {
        "id": "MDGpCyHFeBXZ"
      },
      "execution_count": 91,
      "outputs": []
    },
    {
      "cell_type": "code",
      "source": [
        "print(f' Para realizar a etapa Precurssora seram necessários {y}g sólido do Agente para {volume_reacao}ml de etanol ')"
      ],
      "metadata": {
        "colab": {
          "base_uri": "https://localhost:8080/"
        },
        "id": "tzG-RuHlenzp",
        "outputId": "1a974d72-be6f-43bb-d022-2e1a043c3a13"
      },
      "execution_count": 96,
      "outputs": [
        {
          "output_type": "stream",
          "name": "stdout",
          "text": [
            " Para realizar a etapa Precurssora seram necessários 2.799872448979592g sólido do Agente para 125.0ml de etanol \n"
          ]
        }
      ]
    }
  ]
}